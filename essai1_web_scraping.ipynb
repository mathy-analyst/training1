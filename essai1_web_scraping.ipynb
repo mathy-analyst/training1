{
  "nbformat": 4,
  "nbformat_minor": 0,
  "metadata": {
    "colab": {
      "provenance": [],
      "authorship_tag": "ABX9TyM9B8zJW+CJ7rPaqxpojkyu",
      "include_colab_link": true
    },
    "kernelspec": {
      "name": "python3",
      "display_name": "Python 3"
    },
    "language_info": {
      "name": "python"
    }
  },
  "cells": [
    {
      "cell_type": "markdown",
      "metadata": {
        "id": "view-in-github",
        "colab_type": "text"
      },
      "source": [
        "<a href=\"https://colab.research.google.com/github/mathy-analyst/training1/blob/main/essai1_web_scraping.ipynb\" target=\"_parent\"><img src=\"https://colab.research.google.com/assets/colab-badge.svg\" alt=\"Open In Colab\"/></a>"
      ]
    },
    {
      "cell_type": "code",
      "execution_count": 28,
      "metadata": {
        "colab": {
          "base_uri": "https://localhost:8080/"
        },
        "collapsed": true,
        "id": "dQD-v0WkvSWE",
        "outputId": "4f98e281-7cc4-4bb1-bfbe-a865df777c2a"
      },
      "outputs": [
        {
          "output_type": "stream",
          "name": "stdout",
          "text": [
            "<html>\n",
            " <head>\n",
            "  <title>\n",
            "   Mon site d'essai\n",
            "  </title>\n",
            " </head>\n",
            " <body>\n",
            "  <h1>\n",
            "   Bienvenue !\n",
            "  </h1>\n",
            "  <p class=\"intro\">\n",
            "   Ceci est un paragraphe d'introduction.\n",
            "  </p>\n",
            "  <a class=\"nav\" href=\"https://openai.com\" id=\"lien1\">\n",
            "   Visiter OpenAI\n",
            "  </a>\n",
            "  <p class=\"Tag\">\n",
            "   Chaque balise HTML devient un Tag manipulable en Python.\n",
            "  </p>\n",
            "  <a href=\"https://app.datacamp.com/learn/skill-tracks/python-data-fundamentals\">\n",
            "   <p class=\"requests\">\n",
            "    Avec requests, on peut charger une vraie page web et l’analyser avec BeautifulSoup.\n",
            "   </p>\n",
            "  </a>\n",
            " </body>\n",
            "</html>\n",
            "\n",
            "<title>Mon site d'essai</title>\n",
            "title\n",
            "Bienvenue !\n",
            "Ceci est un paragraphe d'introduction.\n",
            "html\n",
            "<a class=\"nav\" href=\"https://openai.com\" id=\"lien1\">Visiter OpenAI</a>\n",
            "<p class=\"intro\">Ceci est un paragraphe d'introduction.</p>\n",
            "body\n"
          ]
        }
      ],
      "source": [
        "from bs4 import BeautifulSoup\n",
        "html_doc = \"\"\"\n",
        "<html>\n",
        "<head><title>Mon site d'essai</title></head>\n",
        "<body>\n",
        "  <h1>Bienvenue !</h1>\n",
        "  <p class=\"intro\">Ceci est un paragraphe d'introduction.</p><a href=\"https://openai.com\" class=\"nav\" id=\"lien1\">Visiter OpenAI</a>\n",
        "  <p class=\"Tag\">Chaque balise HTML devient un Tag manipulable en Python.</p><a href=\"https://app.datacamp.com/learn/skill-tracks/python-data-fundamentals\">\n",
        "  <p class=\"requests\">Avec requests, on peut charger une vraie page web et l’analyser avec BeautifulSoup.</p>\n",
        "</body>\n",
        "</html>\n",
        "\"\"\"\n",
        "\n",
        "soup = BeautifulSoup(html_doc, \"html.parser\")\n",
        "print(soup.prettify())\n",
        "#Chaque balise HTML devient un Tag manipulable en Python.\n",
        "print(soup.title)  # Affiche le <title>\n",
        "print(soup.title.name) # Nom de la balise = \"title\"\n",
        "print(soup.h1.string) # Texte dans <h1>\n",
        "print(soup.p.string)\n",
        "print(soup.head.parent.name)  # Le parent de <head>\n",
        "print(soup.p.next_sibling)  # Le voisin après <p> (ici le <a>)\n",
        "print(soup.a.previous_sibling)  # Le voisin avant <p>\n",
        "print(soup.h1.parent.name)\n"
      ]
    },
    {
      "cell_type": "code",
      "source": [
        "\"\"\" Module 4 : Attributs HTML\n",
        "Explication\n",
        "\n",
        "Un Tag peut avoir des attributs (ex : href, class, id).\n",
        "On les récupère comme dans un dictionnaire Python.\"\"\"\n",
        "lien = soup.a\n",
        "print(lien['href']) # https://openai.com\n",
        "print(lien['id'])  # lien1\n",
        "print(lien['class'])"
      ],
      "metadata": {
        "colab": {
          "base_uri": "https://localhost:8080/"
        },
        "id": "KL37SJoN3bN2",
        "outputId": "30fa0277-bd1e-42cc-8fc8-0c182eb637e6"
      },
      "execution_count": 29,
      "outputs": [
        {
          "output_type": "stream",
          "name": "stdout",
          "text": [
            "https://openai.com\n",
            "lien1\n",
            "['nav']\n"
          ]
        }
      ]
    },
    {
      "cell_type": "code",
      "source": [
        "#Le texte contenu dans un Tag est de type NavigableString.\n",
        "titre = soup.title.string\n",
        "print(type(titre)) # <class 'bs4.element.NavigableString'>"
      ],
      "metadata": {
        "colab": {
          "base_uri": "https://localhost:8080/"
        },
        "id": "AVzHNnjm7QrH",
        "outputId": "441ff17d-7f67-4ac6-e667-d4d20eec15cf"
      },
      "execution_count": 25,
      "outputs": [
        {
          "output_type": "stream",
          "name": "stdout",
          "text": [
            "<class 'bs4.element.NavigableString'>\n"
          ]
        }
      ]
    },
    {
      "cell_type": "code",
      "source": [
        "#Rechercher dans la page (find, find_all) find(\"balise\") → premier élément trouvé find_all(\"balise\") → liste de tous les éléments correspondants\n",
        "print(soup.find(\"p\"))   # Premier paragraphe\n",
        "print(soup.find_all(\"a\")) # Liste de tous les liens\n",
        "print(soup.find(id=\"lien1\"))  # Recherche par ID\n",
        "print(soup.find_all(\"p\"))"
      ],
      "metadata": {
        "colab": {
          "base_uri": "https://localhost:8080/"
        },
        "id": "Sjsz2pBx8JDe",
        "outputId": "c6349c68-4f3d-4b8f-ba1b-402d7d582447"
      },
      "execution_count": 32,
      "outputs": [
        {
          "output_type": "stream",
          "name": "stdout",
          "text": [
            "<p class=\"intro\">Ceci est un paragraphe d'introduction.</p>\n",
            "[<a class=\"nav\" href=\"https://openai.com\" id=\"lien1\">Visiter OpenAI</a>, <a href=\"https://app.datacamp.com/learn/skill-tracks/python-data-fundamentals\">\n",
            "<p class=\"requests\">Avec requests, on peut charger une vraie page web et l’analyser avec BeautifulSoup.</p>\n",
            "</a>]\n",
            "<a class=\"nav\" href=\"https://openai.com\" id=\"lien1\">Visiter OpenAI</a>\n",
            "[<p class=\"intro\">Ceci est un paragraphe d'introduction.</p>, <p class=\"Tag\">Chaque balise HTML devient un Tag manipulable en Python.</p>, <p class=\"requests\">Avec requests, on peut charger une vraie page web et l’analyser avec BeautifulSoup.</p>]\n"
          ]
        }
      ]
    },
    {
      "cell_type": "code",
      "source": [
        "#Télécharger et scraper une vraie page\n",
        "#Avec requests, on peut charger une vraie page web et l’analyser avec BeautifulSoup.\n",
        "\n",
        "import requests\n",
        "url = \"https://www.dataquest.io/projects/guided-project-a-profitable-app-profiles-for-the-app-store-and-google-play-markets-2/\"\n",
        "res = requests.get(url)\n",
        "soup = BeautifulSoup(res.text, \"html.parser\")\n",
        "print(soup.title.string) # Titre de la page\n",
        "print(soup.find(\"h1\").string)"
      ],
      "metadata": {
        "colab": {
          "base_uri": "https://localhost:8080/"
        },
        "id": "cIsxRzSI_t43",
        "outputId": "d8e78877-2502-45b6-a0b9-f3cb437cf3a4"
      },
      "execution_count": 34,
      "outputs": [
        {
          "output_type": "stream",
          "name": "stdout",
          "text": [
            "Guided Project: Profitable App Profiles for the App Store and Google Play Markets – Dataquest\n",
            " Profitable App Profiles for the App Store and Google Play Markets\n"
          ]
        }
      ]
    }
  ]
}